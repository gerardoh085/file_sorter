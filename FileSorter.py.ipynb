{
 "cells": [
  {
   "cell_type": "code",
   "execution_count": 1,
   "id": "5af753fa",
   "metadata": {},
   "outputs": [],
   "source": [
    "import os, shutil"
   ]
  },
  {
   "cell_type": "code",
   "execution_count": null,
   "id": "3eafe523",
   "metadata": {},
   "outputs": [],
   "source": [
    "path = input()\n",
    "path = path.replace('\\\\','/')\n",
    "path = path+'/'\n",
    "#print(path)"
   ]
  },
  {
   "cell_type": "code",
   "execution_count": null,
   "id": "edb96ac7",
   "metadata": {},
   "outputs": [],
   "source": [
    "file_name = os.listdir(path)\n",
    "#print(file_name)\n"
   ]
  },
  {
   "cell_type": "code",
   "execution_count": 32,
   "id": "772fe4f0",
   "metadata": {},
   "outputs": [],
   "source": [
    "folder_names = ['csv files', 'image files', 'text files', 'pdf files']\n",
    "\n",
    "for i in range(len(folder_names)):\n",
    "    if not os.path.exists(path+folder_names[i]):\n",
    "        os.makedirs(path+folder_names[i])\n",
    "\n",
    "for file in file_name:\n",
    "    if \".csv\" in file and not os.path.exists(path+\"csv files/\"+file):\n",
    "        shutil.move(path+file, path+\"csv files/\"+file)\n",
    "    elif \".png\" in file and not os.path.exists(path+\"csv files/\"+file):\n",
    "        shutil.move(path+file, path+\"image files/\"+file)\n",
    "    elif \".txt\" in file and not os.path.exists(path+\"csv files/\"+file):\n",
    "        shutil.move(path+file, path+\"text files/\"+file)\n",
    "    elif \".pdf\" in file and not os.path.exists(path+\"csv files/\"+file):\n",
    "        shutil.move(path+file, path+\"pdf files/\"+file)\n",
    "    "
   ]
  },
  {
   "cell_type": "code",
   "execution_count": null,
   "id": "45f9b678",
   "metadata": {},
   "outputs": [],
   "source": []
  }
 ],
 "metadata": {
  "kernelspec": {
   "display_name": "Python 3 (ipykernel)",
   "language": "python",
   "name": "python3"
  },
  "language_info": {
   "codemirror_mode": {
    "name": "ipython",
    "version": 3
   },
   "file_extension": ".py",
   "mimetype": "text/x-python",
   "name": "python",
   "nbconvert_exporter": "python",
   "pygments_lexer": "ipython3",
   "version": "3.9.13"
  }
 },
 "nbformat": 4,
 "nbformat_minor": 5
}
