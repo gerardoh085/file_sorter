{
 "cells": [
  {
   "cell_type": "code",
   "execution_count": 33,
   "id": "7c8a7ed3",
   "metadata": {},
   "outputs": [],
   "source": [
    "import os, shutil"
   ]
  },
  {
   "cell_type": "code",
   "execution_count": 34,
   "id": "1e3a5949",
   "metadata": {},
   "outputs": [
    {
     "name": "stdout",
     "output_type": "stream",
     "text": [
      "C:\\Users\\gerar\\OneDrive\\Desktop\\Math205HW\n",
      "C:/Users/gerar/OneDrive/Desktop/Math205HW/\n"
     ]
    }
   ],
   "source": [
    "path = input()\n",
    "path = path.replace('\\\\','/')\n",
    "path = path+'/'\n",
    "print(path)"
   ]
  },
  {
   "cell_type": "code",
   "execution_count": 35,
   "id": "91dfee38",
   "metadata": {},
   "outputs": [
    {
     "name": "stdout",
     "output_type": "stream",
     "text": [
      "['205f20-HW5-solutions.pdf', '205f20-Q2-3-solutions.pdf', 'Assignment 4 - Solution.pdf', 'EK-TM4C123GXL Firmware Development Package User Guide.pdf', 'FinalExamFall2020.pdf', 'HW1-Math205-Fall20-Sol.pdf', 'Hw2-Math205-Fall20-Sol.pdf', 'HW3-Math205-Fall20-Sol.pdf', 'HW6-Math205-Fall20-sol.pdf', 'lu205quiz53pmsolns.pdf', 'Quiz 1 - Solution.pdf', 'Quiz3_3pm-Sol.pdf', 'Quiz4_3pm-sol.pdf', 'Quiz6_3pm-sol.pdf']\n"
     ]
    }
   ],
   "source": [
    "file_name = os.listdir(path)\n",
    "print(file_name)\n"
   ]
  },
  {
   "cell_type": "code",
   "execution_count": 32,
   "id": "3db3b250",
   "metadata": {},
   "outputs": [],
   "source": [
    "folder_names = ['csv files', 'image files', 'text files', 'pdf files']\n",
    "\n",
    "for i in range(len(folder_names)):\n",
    "    if not os.path.exists(path+folder_names[i]):\n",
    "        os.makedirs(path+folder_names[i])\n",
    "\n",
    "for file in file_name:\n",
    "    if \".csv\" in file and not os.path.exists(path+\"csv files/\"+file):\n",
    "        shutil.move(path+file, path+\"csv files/\"+file)\n",
    "    elif \".png\" in file and not os.path.exists(path+\"csv files/\"+file):\n",
    "        shutil.move(path+file, path+\"image files/\"+file)\n",
    "    elif \".txt\" in file and not os.path.exists(path+\"csv files/\"+file):\n",
    "        shutil.move(path+file, path+\"text files/\"+file)\n",
    "    elif \".pdf\" in file and not os.path.exists(path+\"csv files/\"+file):\n",
    "        shutil.move(path+file, path+\"pdf files/\"+file)\n",
    "    "
   ]
  },
  {
   "cell_type": "code",
   "execution_count": null,
   "id": "c153efae",
   "metadata": {},
   "outputs": [],
   "source": []
  }
 ],
 "metadata": {
  "kernelspec": {
   "display_name": "Python 3 (ipykernel)",
   "language": "python",
   "name": "python3"
  },
  "language_info": {
   "codemirror_mode": {
    "name": "ipython",
    "version": 3
   },
   "file_extension": ".py",
   "mimetype": "text/x-python",
   "name": "python",
   "nbconvert_exporter": "python",
   "pygments_lexer": "ipython3",
   "version": "3.9.13"
  }
 },
 "nbformat": 4,
 "nbformat_minor": 5
}
